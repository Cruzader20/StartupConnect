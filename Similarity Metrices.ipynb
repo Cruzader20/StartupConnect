{
 "cells": [
  {
   "cell_type": "code",
   "execution_count": 1,
   "id": "a77f35c3",
   "metadata": {
    "scrolled": false
   },
   "outputs": [
    {
     "name": "stderr",
     "output_type": "stream",
     "text": [
      "[nltk_data] Downloading package stopwords to\n",
      "[nltk_data]     C:\\Users\\mohit\\AppData\\Roaming\\nltk_data...\n",
      "[nltk_data]   Package stopwords is already up-to-date!\n",
      "[nltk_data] Downloading package punkt to\n",
      "[nltk_data]     C:\\Users\\mohit\\AppData\\Roaming\\nltk_data...\n",
      "[nltk_data]   Package punkt is already up-to-date!\n"
     ]
    },
    {
     "data": {
      "text/plain": [
       "True"
      ]
     },
     "execution_count": 1,
     "metadata": {},
     "output_type": "execute_result"
    }
   ],
   "source": [
    "import nltk\n",
    "from nltk.corpus import stopwords\n",
    "from nltk.tokenize import word_tokenize\n",
    "\n",
    "nltk.download('stopwords')\n",
    "nltk.download('punkt')"
   ]
  },
  {
   "cell_type": "code",
   "execution_count": 2,
   "id": "efde953b",
   "metadata": {},
   "outputs": [
    {
     "name": "stdout",
     "output_type": "stream",
     "text": [
      "Top 3 matching strings:\n",
      "Top 1 string similarity: 0.4558619508756987\n",
      "Top 2 string similarity: 0.4342248755290435\n",
      "Top 3 string similarity: 0.39735217981577575\n",
      "['An app that connects local farmers with consumers for fresh, seasonal produce delivery.', 'A mobile app that connects local volunteers with organizations in need of their help.', 'A platform that connects local farmers with chefs and restaurant owners for farm-to-table ingredients.']\n"
     ]
    }
   ],
   "source": [
    "from sklearn.feature_extraction.text import TfidfVectorizer\n",
    "from sklearn.metrics.pairwise import cosine_similarity\n",
    "\n",
    "# List of strings\n",
    "string_list = [\"A subscription-based meal delivery service for busy professionals looking for healthy, convenient options.\", \"An app that connects local farmers with consumers for fresh, seasonal produce delivery.\", \"A virtual personal shopping and styling service for people who struggle with finding the right clothes.\", \"An AI-powered language learning platform that uses real-life scenarios to help users become fluent.\", \"An eco-friendly cleaning service that uses only sustainable, non-toxic products.\", \"A mobile app that matches dog owners with local dog walkers and sitters.\", \"A wellness company that offers customized vitamin and supplement plans based on individual needs.\", \"A platform that connects freelance professionals with businesses in need of their services.\", \"A social media management tool that helps small businesses improve their online presence.\", \"An online marketplace for sustainable and ethical fashion brands.\", \"A fitness program that combines personal training with nutritional coaching and accountability.\", \"A virtual interior design service that creates custom design plans for clients on a budget.\", \"A mobile app that connects local volunteers with organizations in need of their help.\", \"An online tutoring service that specializes in helping students with learning disabilities.\", \"A platform that helps people find and book affordable, last-minute travel deals\", \"A health and wellness company that offers personalized meal plans based on DNA analysis.\", \"A subscription-based home cleaning and organizing service that uses eco-friendly products.\", \"An AI-powered recruiting platform that helps companies find the best candidates for their job openings.\", \"A meal kit delivery service that specializes in international cuisine.\", \"A virtual event planning service that helps people host memorable celebrations from afar.\", \"An e-commerce platform that sells affordable, high-quality skincare products.\", \"A social media platform that connects people with common interests for offline events and activities.\", \"A platform that connects local farmers with chefs and restaurant owners for farm-to-table ingredients.\", \"A personalized nutrition and fitness coaching program that uses wearable technology to track progress.\", \"An app that helps people organize and declutter their homes with minimal effort.\", \"A mobile marketplace for sustainable and secondhand fashion items.\", \"A wellness retreat center that offers yoga, meditation, and healthy food options.\", \"A subscription-based book club that sends monthly curated selections to members.\", \"An online therapy service that offers affordable and accessible mental health support.\", \"A virtual concierge service that helps busy people with errands and tasks.\"]\n",
    "\n",
    "# New string\n",
    "new_string = \"A mobile app that connects users with local organic grocery stores and farmers' markets.\"\n",
    "\n",
    "# Preprocess strings\n",
    "def preprocess(string):\n",
    "    string = string.lower()\n",
    "    string = ''.join([char for char in string if char.isalnum() or char.isspace()])\n",
    "    return string\n",
    "\n",
    "preprocessed_strings = [preprocess(string) for string in string_list]\n",
    "preprocessed_new_string = preprocess(new_string)\n",
    "\n",
    "# Create vectorizer\n",
    "vectorizer = TfidfVectorizer()\n",
    "vectorizer.fit(preprocessed_strings)\n",
    "\n",
    "# Convert strings to vectors\n",
    "vector_list = vectorizer.transform(preprocessed_strings)\n",
    "vector_new_string = vectorizer.transform([preprocessed_new_string])\n",
    "\n",
    "# Calculate cosine similarity\n",
    "cosine_similarities = cosine_similarity(vector_new_string, vector_list)\n",
    "\n",
    "# Get top 3 matching strings\n",
    "top_indices = cosine_similarities.argsort()[0][-3:]\n",
    "top_strings = [string_list[i] for i in top_indices[::-1]]\n",
    "\n",
    "# Print top 3 matching strings and their cosine similarity\n",
    "print(\"Top 3 matching strings:\")\n",
    "for i, string in enumerate(top_strings):\n",
    "    similarity = cosine_similarity(vector_new_string, vectorizer.transform([preprocess(string)]))[0][0]\n",
    "    print(f\"Top {i+1} string similarity: {similarity}\")\n",
    "\n",
    "print(top_strings)\n"
   ]
  },
  {
   "cell_type": "code",
   "execution_count": 3,
   "id": "90ad8355",
   "metadata": {},
   "outputs": [
    {
     "name": "stdout",
     "output_type": "stream",
     "text": [
      "Top 1 string similarity: 1.04\n",
      "Top 2 string similarity: 1.06\n",
      "Top 3 string similarity: 1.10\n",
      "\n",
      "1. An app that connects local farmers with consumers for fresh, seasonal produce delivery.\n",
      "2. A mobile app that connects local volunteers with organizations in need of their help.\n",
      "3. A platform that connects local farmers with chefs and restaurant owners for farm-to-table ingredients.\n"
     ]
    }
   ],
   "source": [
    "from sklearn.feature_extraction.text import TfidfVectorizer\n",
    "from sklearn.metrics.pairwise import euclidean_distances\n",
    "\n",
    "# List of strings\n",
    "string_list = [\"A subscription-based meal delivery service for busy professionals looking for healthy, convenient options.\", \"An app that connects local farmers with consumers for fresh, seasonal produce delivery.\", \"A virtual personal shopping and styling service for people who struggle with finding the right clothes.\", \"An AI-powered language learning platform that uses real-life scenarios to help users become fluent.\", \"An eco-friendly cleaning service that uses only sustainable, non-toxic products.\", \"A mobile app that matches dog owners with local dog walkers and sitters.\", \"A wellness company that offers customized vitamin and supplement plans based on individual needs.\", \"A platform that connects freelance professionals with businesses in need of their services.\", \"A social media management tool that helps small businesses improve their online presence.\", \"An online marketplace for sustainable and ethical fashion brands.\", \"A fitness program that combines personal training with nutritional coaching and accountability.\", \"A virtual interior design service that creates custom design plans for clients on a budget.\", \"A mobile app that connects local volunteers with organizations in need of their help.\", \"An online tutoring service that specializes in helping students with learning disabilities.\", \"A platform that helps people find and book affordable, last-minute travel deals\", \"A health and wellness company that offers personalized meal plans based on DNA analysis.\", \"A subscription-based home cleaning and organizing service that uses eco-friendly products.\", \"An AI-powered recruiting platform that helps companies find the best candidates for their job openings.\", \"A meal kit delivery service that specializes in international cuisine.\", \"A virtual event planning service that helps people host memorable celebrations from afar.\", \"An e-commerce platform that sells affordable, high-quality skincare products.\", \"A social media platform that connects people with common interests for offline events and activities.\", \"A platform that connects local farmers with chefs and restaurant owners for farm-to-table ingredients.\", \"A personalized nutrition and fitness coaching program that uses wearable technology to track progress.\", \"An app that helps people organize and declutter their homes with minimal effort.\", \"A mobile marketplace for sustainable and secondhand fashion items.\", \"A wellness retreat center that offers yoga, meditation, and healthy food options.\", \"A subscription-based book club that sends monthly curated selections to members.\", \"An online therapy service that offers affordable and accessible mental health support.\", \"A virtual concierge service that helps busy people with errands and tasks.\"]\n",
    "\n",
    "# New string\n",
    "new_string = \"A mobile app that connects users with local organic grocery stores and farmers' markets.\"\n",
    "\n",
    "# Preprocess strings\n",
    "def preprocess(string):\n",
    "    string = string.lower()\n",
    "    string = ''.join([char for char in string if char.isalnum() or char.isspace()])\n",
    "    return string\n",
    "\n",
    "preprocessed_strings = [preprocess(string) for string in string_list]\n",
    "preprocessed_new_string = preprocess(new_string)\n",
    "\n",
    "# Create vectorizer\n",
    "vectorizer = TfidfVectorizer()\n",
    "vectorizer.fit(preprocessed_strings)\n",
    "\n",
    "# Convert strings to vectors\n",
    "vector_list = vectorizer.transform(preprocessed_strings)\n",
    "vector_new_string = vectorizer.transform([preprocessed_new_string])\n",
    "\n",
    "# Calculate Euclidean distance\n",
    "euclidean_distances = euclidean_distances(vector_new_string, vector_list)\n",
    "\n",
    "# Get top 3 matching strings\n",
    "top_indices = euclidean_distances.argsort()[0][:3]\n",
    "top_strings = [string_list[i] for i in top_indices]\n",
    "\n",
    "# Print Euclidean distance between top 3 matches and test string\n",
    "for i, string in enumerate(top_strings):\n",
    "    distance = euclidean_distances[0][top_indices[i]]\n",
    "    print(f\"Top {i+1} string similarity: {1 / (1/ distance):.2f}\")\n",
    "\n",
    "print()\n",
    "for i, string in enumerate(top_strings):\n",
    "    print(f\"{i+1}. {string}\")\n"
   ]
  },
  {
   "cell_type": "code",
   "execution_count": 4,
   "id": "2411a669",
   "metadata": {},
   "outputs": [
    {
     "name": "stdout",
     "output_type": "stream",
     "text": [
      "Top 3 matching strings:\n",
      "Top 1 string distance: 42\n",
      "Top 2 string distance: 46\n",
      "Top 3 string distance: 55\n",
      "['A mobile app that matches dog owners with local dog walkers and sitters.', 'A mobile app that connects local volunteers with organizations in need of their help.', 'An app that connects local farmers with consumers for fresh, seasonal produce delivery.']\n"
     ]
    }
   ],
   "source": [
    "import Levenshtein\n",
    "\n",
    "# List of strings\n",
    "string_list = [\"A subscription-based meal delivery service for busy professionals looking for healthy, convenient options.\", \"An app that connects local farmers with consumers for fresh, seasonal produce delivery.\", \"A virtual personal shopping and styling service for people who struggle with finding the right clothes.\", \"An AI-powered language learning platform that uses real-life scenarios to help users become fluent.\", \"An eco-friendly cleaning service that uses only sustainable, non-toxic products.\", \"A mobile app that matches dog owners with local dog walkers and sitters.\", \"A wellness company that offers customized vitamin and supplement plans based on individual needs.\", \"A platform that connects freelance professionals with businesses in need of their services.\", \"A social media management tool that helps small businesses improve their online presence.\", \"An online marketplace for sustainable and ethical fashion brands.\", \"A fitness program that combines personal training with nutritional coaching and accountability.\", \"A virtual interior design service that creates custom design plans for clients on a budget.\", \"A mobile app that connects local volunteers with organizations in need of their help.\", \"An online tutoring service that specializes in helping students with learning disabilities.\", \"A platform that helps people find and book affordable, last-minute travel deals\", \"A health and wellness company that offers personalized meal plans based on DNA analysis.\", \"A subscription-based home cleaning and organizing service that uses eco-friendly products.\", \"An AI-powered recruiting platform that helps companies find the best candidates for their job openings.\", \"A meal kit delivery service that specializes in international cuisine.\", \"A virtual event planning service that helps people host memorable celebrations from afar.\", \"An e-commerce platform that sells affordable, high-quality skincare products.\", \"A social media platform that connects people with common interests for offline events and activities.\", \"A platform that connects local farmers with chefs and restaurant owners for farm-to-table ingredients.\", \"A personalized nutrition and fitness coaching program that uses wearable technology to track progress.\", \"An app that helps people organize and declutter their homes with minimal effort.\", \"A mobile marketplace for sustainable and secondhand fashion items.\", \"A wellness retreat center that offers yoga, meditation, and healthy food options.\", \"A subscription-based book club that sends monthly curated selections to members.\", \"An online therapy service that offers affordable and accessible mental health support.\", \"A virtual concierge service that helps busy people with errands and tasks.\"]\n",
    "\n",
    "# New string\n",
    "new_string = \"A mobile app that connects users with local organic grocery stores and farmers' markets.\"\n",
    "\n",
    "# Preprocess strings\n",
    "def process(text):\n",
    "    \n",
    "    text = text.lower()\n",
    "    tokens = word_tokenize(text)\n",
    "    stop_words = set(stopwords.words('english'))\n",
    "    filtered_tokens = [token for token in tokens if token not in stop_words]\n",
    "    processed_text = ' '.join(filtered_tokens)\n",
    "    return processed_text\n",
    "\n",
    "preprocessed_strings = [preprocess(string) for string in string_list]\n",
    "preprocessed_new_string = preprocess(new_string)\n",
    "\n",
    "# Calculate Levenshtein distance\n",
    "distances = [Levenshtein.distance(preprocessed_new_string, string) for string in preprocessed_strings]\n",
    "\n",
    "# Get top 3 matching strings\n",
    "top_indices = sorted(range(len(distances)), key=lambda i: distances[i])[:3]\n",
    "top_strings = [string_list[i] for i in top_indices]\n",
    "\n",
    "# Print top 3 matching strings and their Levenshtein distance\n",
    "print(\"Top 3 matching strings:\")\n",
    "for i, string in enumerate(top_strings):\n",
    "    distance = Levenshtein.distance(preprocessed_new_string, preprocessed_strings[top_indices[i]])\n",
    "    print(f\"Top {i+1} string distance: {distance}\")\n",
    "    \n",
    "print(top_strings)\n"
   ]
  },
  {
   "cell_type": "code",
   "execution_count": 5,
   "id": "9dfbef4e",
   "metadata": {},
   "outputs": [
    {
     "name": "stdout",
     "output_type": "stream",
     "text": [
      "Top 3 matching strings:\n",
      "Top 1 string BLEU score: 0.9467476742206119\n",
      "Top 2 string BLEU score: 0.9467476742206119\n",
      "Top 3 string BLEU score: 0.9467476742206119\n",
      "['A subscription-based meal delivery service for busy professionals looking for healthy, convenient options.', 'An app that connects local farmers with consumers for fresh, seasonal produce delivery.', 'A virtual personal shopping and styling service for people who struggle with finding the right clothes.']\n"
     ]
    }
   ],
   "source": [
    "import nltk.translate.bleu_score as bleu\n",
    "\n",
    "# List of strings\n",
    "string_list = [\"A subscription-based meal delivery service for busy professionals looking for healthy, convenient options.\", \"An app that connects local farmers with consumers for fresh, seasonal produce delivery.\", \"A virtual personal shopping and styling service for people who struggle with finding the right clothes.\", \"An AI-powered language learning platform that uses real-life scenarios to help users become fluent.\", \"An eco-friendly cleaning service that uses only sustainable, non-toxic products.\", \"A mobile app that matches dog owners with local dog walkers and sitters.\", \"A wellness company that offers customized vitamin and supplement plans based on individual needs.\", \"A platform that connects freelance professionals with businesses in need of their services.\", \"A social media management tool that helps small businesses improve their online presence.\", \"An online marketplace for sustainable and ethical fashion brands.\", \"A fitness program that combines personal training with nutritional coaching and accountability.\", \"A virtual interior design service that creates custom design plans for clients on a budget.\", \"A mobile app that connects local volunteers with organizations in need of their help.\", \"An online tutoring service that specializes in helping students with learning disabilities.\", \"A platform that helps people find and book affordable, last-minute travel deals\", \"A health and wellness company that offers personalized meal plans based on DNA analysis.\", \"A subscription-based home cleaning and organizing service that uses eco-friendly products.\", \"An AI-powered recruiting platform that helps companies find the best candidates for their job openings.\", \"A meal kit delivery service that specializes in international cuisine.\", \"A virtual event planning service that helps people host memorable celebrations from afar.\", \"An e-commerce platform that sells affordable, high-quality skincare products.\", \"A social media platform that connects people with common interests for offline events and activities.\", \"A platform that connects local farmers with chefs and restaurant owners for farm-to-table ingredients.\", \"A personalized nutrition and fitness coaching program that uses wearable technology to track progress.\", \"An app that helps people organize and declutter their homes with minimal effort.\", \"A mobile marketplace for sustainable and secondhand fashion items.\", \"A wellness retreat center that offers yoga, meditation, and healthy food options.\", \"A subscription-based book club that sends monthly curated selections to members.\", \"An online therapy service that offers affordable and accessible mental health support.\", \"A virtual concierge service that helps busy people with errands and tasks.\"]\n",
    "\n",
    "# New string\n",
    "new_string = \"A mobile app that connects users with local organic grocery stores and farmers' markets.\"\n",
    "\n",
    "# Preprocess strings\n",
    "def process(text):\n",
    "    \n",
    "    text = text.lower()\n",
    "    tokens = word_tokenize(text)\n",
    "    stop_words = set(stopwords.words('english'))\n",
    "    filtered_tokens = [token for token in tokens if token not in stop_words]\n",
    "    processed_text = ' '.join(filtered_tokens)\n",
    "    return processed_text\n",
    "\n",
    "preprocessed_strings = [preprocess(string) for string in string_list]\n",
    "preprocessed_new_string = preprocess(new_string)\n",
    "\n",
    "# Calculate BLEU score\n",
    "scores = [bleu.sentence_bleu(preprocessed_strings, preprocessed_new_string, weights=(1./3, 1./3, 1./3)) for _ in preprocessed_strings]\n",
    "\n",
    "# Get top 3 matching strings\n",
    "top_indices = sorted(range(len(scores)), key=lambda i: scores[i], reverse=True)[:3]\n",
    "top_strings = [string_list[i] for i in top_indices]\n",
    "\n",
    "# Print top 3 matching strings and their BLEU scores\n",
    "print(\"Top 3 matching strings:\")\n",
    "for i, string in enumerate(top_strings):\n",
    "    score = scores[top_indices.index(i)]\n",
    "    print(f\"Top {i+1} string BLEU score: {score}\")\n",
    "\n",
    "print(top_strings)\n"
   ]
  },
  {
   "cell_type": "code",
   "execution_count": 6,
   "id": "5100f56d",
   "metadata": {},
   "outputs": [
    {
     "name": "stdout",
     "output_type": "stream",
     "text": [
      "Top 3 matching strings:\n",
      "Top 1 string ROUGE score: 0.5384615334911242\n",
      "A mobile app that matches dog owners with local dog walkers and sitters.\n",
      "Top 2 string ROUGE score: 0.4999999950000001\n",
      "A mobile app that connects local volunteers with organizations in need of their help.\n",
      "Top 3 string ROUGE score: 0.4285714235714286\n",
      "A platform that connects local farmers with chefs and restaurant owners for farm-to-table ingredients.\n"
     ]
    }
   ],
   "source": [
    "from rouge import Rouge\n",
    "\n",
    "# List of strings\n",
    "string_list = [\"A subscription-based meal delivery service for busy professionals looking for healthy, convenient options.\", \"An app that connects local farmers with consumers for fresh, seasonal produce delivery.\", \"A virtual personal shopping and styling service for people who struggle with finding the right clothes.\", \"An AI-powered language learning platform that uses real-life scenarios to help users become fluent.\", \"An eco-friendly cleaning service that uses only sustainable, non-toxic products.\", \"A mobile app that matches dog owners with local dog walkers and sitters.\", \"A wellness company that offers customized vitamin and supplement plans based on individual needs.\", \"A platform that connects freelance professionals with businesses in need of their services.\", \"A social media management tool that helps small businesses improve their online presence.\", \"An online marketplace for sustainable and ethical fashion brands.\", \"A fitness program that combines personal training with nutritional coaching and accountability.\", \"A virtual interior design service that creates custom design plans for clients on a budget.\", \"A mobile app that connects local volunteers with organizations in need of their help.\", \"An online tutoring service that specializes in helping students with learning disabilities.\", \"A platform that helps people find and book affordable, last-minute travel deals\", \"A health and wellness company that offers personalized meal plans based on DNA analysis.\", \"A subscription-based home cleaning and organizing service that uses eco-friendly products.\", \"An AI-powered recruiting platform that helps companies find the best candidates for their job openings.\", \"A meal kit delivery service that specializes in international cuisine.\", \"A virtual event planning service that helps people host memorable celebrations from afar.\", \"An e-commerce platform that sells affordable, high-quality skincare products.\", \"A social media platform that connects people with common interests for offline events and activities.\", \"A platform that connects local farmers with chefs and restaurant owners for farm-to-table ingredients.\", \"A personalized nutrition and fitness coaching program that uses wearable technology to track progress.\", \"An app that helps people organize and declutter their homes with minimal effort.\", \"A mobile marketplace for sustainable and secondhand fashion items.\", \"A wellness retreat center that offers yoga, meditation, and healthy food options.\", \"A subscription-based book club that sends monthly curated selections to members.\", \"An online therapy service that offers affordable and accessible mental health support.\", \"A virtual concierge service that helps busy people with errands and tasks.\"]\n",
    "\n",
    "# New string\n",
    "new_string = \"A mobile app that connects users with local organic grocery stores and farmers' markets.\"\n",
    "\n",
    "# Create Rouge object\n",
    "rouge = Rouge()\n",
    "\n",
    "# Calculate ROUGE score\n",
    "rouge_scores = [rouge.get_scores(new_string, string)[0][\"rouge-1\"][\"f\"] for string in string_list]\n",
    "\n",
    "# Get top 3 matching strings\n",
    "top_indices = sorted(range(len(rouge_scores)), key=lambda i: rouge_scores[i], reverse=True)[:3]\n",
    "top_strings = [string_list[i] for i in top_indices]\n",
    "\n",
    "# Print top 3 matching strings and their ROUGE score\n",
    "print(\"Top 3 matching strings:\")\n",
    "for i, string in enumerate(top_strings):\n",
    "    print(f\"Top {i+1} string ROUGE score: {rouge_scores[top_indices[i]]}\")\n",
    "    print(string)"
   ]
  },
  {
   "cell_type": "code",
   "execution_count": null,
   "id": "314b1ad1",
   "metadata": {},
   "outputs": [],
   "source": []
  },
  {
   "cell_type": "code",
   "execution_count": null,
   "id": "41d03f12",
   "metadata": {},
   "outputs": [],
   "source": []
  },
  {
   "cell_type": "code",
   "execution_count": null,
   "id": "7522848c",
   "metadata": {},
   "outputs": [],
   "source": []
  },
  {
   "cell_type": "code",
   "execution_count": null,
   "id": "35b22b7f",
   "metadata": {},
   "outputs": [],
   "source": []
  },
  {
   "cell_type": "code",
   "execution_count": null,
   "id": "b69603d0",
   "metadata": {},
   "outputs": [],
   "source": []
  }
 ],
 "metadata": {
  "kernelspec": {
   "display_name": "Python 3 (ipykernel)",
   "language": "python",
   "name": "python3"
  },
  "language_info": {
   "codemirror_mode": {
    "name": "ipython",
    "version": 3
   },
   "file_extension": ".py",
   "mimetype": "text/x-python",
   "name": "python",
   "nbconvert_exporter": "python",
   "pygments_lexer": "ipython3",
   "version": "3.10.7"
  }
 },
 "nbformat": 4,
 "nbformat_minor": 5
}
